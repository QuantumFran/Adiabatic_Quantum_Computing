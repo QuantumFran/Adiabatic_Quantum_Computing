{
 "cells": [
  {
   "cell_type": "code",
   "execution_count": 2,
   "metadata": {},
   "outputs": [],
   "source": [
    "import dimod\n",
    "from dwave.system.samplers import DWaveSampler\n",
    "from dwave.system.composites import EmbeddingComposite\n",
    "import dwave.inspector\n",
    "from dwave.system import DWaveSampler,EmbeddingComposite"
   ]
  },
  {
   "attachments": {},
   "cell_type": "markdown",
   "metadata": {},
   "source": [
    "Función QUBO a optimizar:  \n",
    "f(x0,x1,x2,x3,x4) = x0 + 5·x1 + 3·x2 + 2·x3 + 2·x4 - 3·x0·x3 - 8·x1·x2 - 7·x1·x4 - 5· x2·x4\n",
    "\n",
    "g(x)= - f(x) = - x_0 - 5x_1 - 3x_2 - 2x_3 - 2x_4 + 3x_0 x_3 + 8 x_1 x_2 + 7 x_1 x_4 + 5 x_2 x_4"
   ]
  },
  {
   "cell_type": "code",
   "execution_count": 4,
   "metadata": {},
   "outputs": [],
   "source": [
    "# We implement the function g(x), which is divided into its linear, quadratic and constant parts\n",
    "\n",
    "linear = {0: -1, 1: -5, 2: -3, 3: -2, 4: -2} # Non-quadratic terms\n",
    "quadratic = {(0, 3): 3, (1, 2): 8, (1, 4): 7, (2, 4): 5} # Quadratic terms\n",
    "offset = 0.0 # Independent term\n",
    "vartype = dimod.BINARY"
   ]
  },
  {
   "cell_type": "code",
   "execution_count": 6,
   "metadata": {},
   "outputs": [
    {
     "name": "stdout",
     "output_type": "stream",
     "text": [
      "La solución óptima es {0: 0, 1: 1, 2: 0, 3: 1, 4: 0} con numero de soldados: 7.0\n"
     ]
    }
   ],
   "source": [
    "# Construct the QUBO function g(x)\n",
    "\n",
    "bqm = dimod.BinaryQuadraticModel(linear, quadratic, offset, vartype)\n",
    "\n",
    "# Indicate the simulator\n",
    "\n",
    "sampler = dimod.SimulatedAnnealingSampler()\n",
    "\n",
    "# Exucute the problem in the simulator\n",
    "\n",
    "sample_set = sampler.sample(bqm)\n",
    "\n",
    "# Print the result (energy and state of energy)\n",
    "\n",
    "solution = sample_set.first.sample\n",
    "energy = sample_set.first.energy\n",
    "print(f\"La solución óptima es {solution} con numero de soldados: {abs(energy)}\")"
   ]
  },
  {
   "cell_type": "code",
   "execution_count": 7,
   "metadata": {},
   "outputs": [
    {
     "name": "stdout",
     "output_type": "stream",
     "text": [
      "La solución óptima es {0: 0, 1: 1, 2: 0, 3: 1, 4: 0} con numero de soldados: 7.0\n"
     ]
    },
    {
     "data": {
      "text/html": [
       "<iframe src=http://127.0.0.1:18000/?problemId=3fec0e78-545d-4916-809c-0679abdc0b4f width=\"100%\" height=640></iframe>"
      ],
      "text/plain": [
       "Serving Inspector on http://127.0.0.1:18000/?problemId=3fec0e78-545d-4916-809c-0679abdc0b4f"
      ]
     },
     "metadata": {},
     "output_type": "display_data"
    },
    {
     "data": {
      "text/plain": [
       "'http://127.0.0.1:18000/?problemId=3fec0e78-545d-4916-809c-0679abdc0b4f'"
      ]
     },
     "execution_count": 7,
     "metadata": {},
     "output_type": "execute_result"
    }
   ],
   "source": [
    "# Execute the problem in a QPU to compare the result between simulation and real execution and to check how the original graph is embedded in the D-Wave chimera topology.\n",
    "\n",
    "num_samples = 1000\n",
    "sampler = EmbeddingComposite(DWaveSampler())\n",
    "bqm = dimod.BinaryQuadraticModel(linear, quadratic, offset, vartype) ##\n",
    "sampleset = sampler.sample(bqm, num_reads=num_samples)   \n",
    "\n",
    "# print the optimal results\n",
    "\n",
    "solution = sampleset.first.sample\n",
    "energy = sampleset.first.energy\n",
    "print(f\"La solución óptima es {solution} con numero de soldados: {abs(energy)}\")\n",
    "\n",
    "# The inspector functionality allows us to visualize how the network is embedded in the topology of the QPU\n",
    "\n",
    "dwave.inspector.show(sampleset)    "
   ]
  }
 ],
 "metadata": {
  "kernelspec": {
   "display_name": "Python 3",
   "language": "python",
   "name": "python3"
  },
  "language_info": {
   "codemirror_mode": {
    "name": "ipython",
    "version": 3
   },
   "file_extension": ".py",
   "mimetype": "text/x-python",
   "name": "python",
   "nbconvert_exporter": "python",
   "pygments_lexer": "ipython3",
   "version": "3.10.4"
  },
  "orig_nbformat": 4
 },
 "nbformat": 4,
 "nbformat_minor": 2
}
