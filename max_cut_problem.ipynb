{
 "cells": [
  {
   "attachments": {},
   "cell_type": "markdown",
   "metadata": {},
   "source": [
    "# <h1><b><center> MAXIMUM CUT PROBLEM</center></b></h1>"
   ]
  },
  {
   "attachments": {},
   "cell_type": "markdown",
   "metadata": {},
   "source": [
    "### <b>SPANISH EXPLANATION"
   ]
  },
  {
   "attachments": {},
   "cell_type": "markdown",
   "metadata": {},
   "source": [
    "El objetivo del problema MAX CUT consiste en trazar una línea (curva o recta indiferentemente) que divide el conjunto de vértices de un grafo en dos subconjuntos de vértices (que pueden ser de distinto tamaño) pasando por el mayor número de aristas posibles y cortando una única vez cada arista.  \n",
    "\n",
    "Este tipo de problema es fácilmente modelizado para ser tratado con un problema de optimización cuadrática sin restricciones (QUBO)."
   ]
  },
  {
   "attachments": {},
   "cell_type": "markdown",
   "metadata": {},
   "source": [
    "### <b>ENGLISH EXPLANATION"
   ]
  },
  {
   "attachments": {},
   "cell_type": "markdown",
   "metadata": {},
   "source": [
    "The objective of the MAX CUT problem is to draw a line (either curved or straight) that divides the set of vertices of a graph into two subsets of vertices (which can be of different sizes) passing through as many edges as possible and cutting each edge only once.  \n",
    "\n",
    "This type of problem is easily modeled to be treated with a quadratic unconstrained optimization (QUBO) problem."
   ]
  }
 ],
 "metadata": {
  "language_info": {
   "name": "python"
  },
  "orig_nbformat": 4
 },
 "nbformat": 4,
 "nbformat_minor": 2
}
